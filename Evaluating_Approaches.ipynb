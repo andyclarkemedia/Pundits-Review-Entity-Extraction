{
 "cells": [
  {
   "cell_type": "markdown",
   "metadata": {},
   "source": [
    "## Evaluating my approach to target identification"
   ]
  },
  {
   "cell_type": "markdown",
   "metadata": {},
   "source": [
    "##### Notebook Aim:"
   ]
  },
  {
   "cell_type": "markdown",
   "metadata": {},
   "source": [
    "> The aim of this notebook is to compare different approaches to identifying target players from a phrase of a football match report "
   ]
  },
  {
   "cell_type": "markdown",
   "metadata": {},
   "source": [
    "##### Outcome:"
   ]
  },
  {
   "cell_type": "markdown",
   "metadata": {},
   "source": [
    "> Produce the best possible method for identifying the target player without increasing the number of false positives (identifying players that are not targets)"
   ]
  },
  {
   "cell_type": "markdown",
   "metadata": {},
   "source": [
    "##### Methods:"
   ]
  },
  {
   "cell_type": "markdown",
   "metadata": {},
   "source": [
    "> - The model text has been scraped from articles on the first page of 'The Mirror' match report site\n",
    "- It has been split into sentences and then split again by commas to produce short phrases\n",
    "- I will evaluate each method by comparing it to a manually annotated dataset of the same phrases\n",
    "- The accuracy of each method will be determined by the number of rows that identified the same target(s) as identified in the annotated dataset"
   ]
  },
  {
   "cell_type": "markdown",
   "metadata": {},
   "source": [
    "--------"
   ]
  },
  {
   "cell_type": "markdown",
   "metadata": {},
   "source": [
    "### Import the Annotated Data"
   ]
  },
  {
   "cell_type": "markdown",
   "metadata": {},
   "source": [
    "#### Create a Dataframe from Model Phrases"
   ]
  },
  {
   "cell_type": "code",
   "execution_count": 326,
   "metadata": {},
   "outputs": [],
   "source": [
    "import pandas as pd\n",
    "pd.set_option('display.max_colwidth', -1)\n",
    "pd.set_option('display.max_rows', None)"
   ]
  },
  {
   "cell_type": "code",
   "execution_count": 327,
   "metadata": {},
   "outputs": [],
   "source": [
    "annotated_df = pd.read_csv('annotated_data.csv')"
   ]
  },
  {
   "cell_type": "code",
   "execution_count": 328,
   "metadata": {},
   "outputs": [],
   "source": [
    "import numpy as np"
   ]
  },
  {
   "cell_type": "code",
   "execution_count": 329,
   "metadata": {},
   "outputs": [],
   "source": [
    "# Replace NaN with empty string\n",
    "annotated_df = annotated_df.replace(np.nan, '', regex=True)"
   ]
  },
  {
   "cell_type": "markdown",
   "metadata": {},
   "source": [
    "-----"
   ]
  },
  {
   "cell_type": "markdown",
   "metadata": {},
   "source": [
    "### Extract Sentences Column for Target Identification"
   ]
  },
  {
   "cell_type": "code",
   "execution_count": 330,
   "metadata": {},
   "outputs": [],
   "source": [
    "phrases_df = pd.DataFrame(annotated_df['Sentence'])"
   ]
  },
  {
   "cell_type": "markdown",
   "metadata": {},
   "source": [
    "-----"
   ]
  },
  {
   "cell_type": "markdown",
   "metadata": {},
   "source": [
    "## Target Identification"
   ]
  },
  {
   "cell_type": "code",
   "execution_count": 331,
   "metadata": {},
   "outputs": [],
   "source": [
    "import spacy"
   ]
  },
  {
   "cell_type": "code",
   "execution_count": 332,
   "metadata": {},
   "outputs": [],
   "source": [
    "# load spaCy model\n",
    "nlp = spacy.load(\"en_core_web_sm\")"
   ]
  },
  {
   "cell_type": "code",
   "execution_count": 333,
   "metadata": {},
   "outputs": [],
   "source": [
    "import targetevaluation_playernames"
   ]
  },
  {
   "cell_type": "code",
   "execution_count": 334,
   "metadata": {},
   "outputs": [],
   "source": [
    "# Flatten list of player names\n",
    "players = [y for x in list(targetevaluation_playernames.player_names.values()) for y in x]"
   ]
  },
  {
   "cell_type": "markdown",
   "metadata": {},
   "source": [
    "> ### Approach 1 - Identify NSubj\n",
    "- Function will extract players that are the main subject of a sentence"
   ]
  },
  {
   "cell_type": "code",
   "execution_count": 335,
   "metadata": {},
   "outputs": [],
   "source": [
    "def identify_nsubj(string):\n",
    "    \n",
    "    # Create spacy object from string\n",
    "    doc = nlp(string)\n",
    "    \n",
    "    # Create empty nsubj list\n",
    "    nsubj = []\n",
    "    \n",
    "    # Iterate through doc object\n",
    "    for i, tok in enumerate(doc):\n",
    "        # Check for NSubj only if tok is a proper noun and it's length is greater than 2\n",
    "        if str(tok.dep_) == \"nsubj\" and str(tok.pos_) == \"PROPN\" and len(tok.text) > 2:\n",
    "            # Apped subject if it matches with a player\n",
    "            nsubj.append([player for player in players if tok.text in player])\n",
    "    \n",
    "    # return a flattened list\n",
    "    return str([y for x in nsubj for y in x])[1:-1].replace(\"'\", \"\")"
   ]
  },
  {
   "cell_type": "code",
   "execution_count": 336,
   "metadata": {},
   "outputs": [],
   "source": [
    "# Apply function to phrases_df\n",
    "phrases_df['nsubj'] = phrases_df['Sentence'].apply(identify_nsubj)"
   ]
  },
  {
   "cell_type": "markdown",
   "metadata": {},
   "source": [
    "> ### Approach 2 - Identify NSubj and Subjpass\n",
    "- Function will extract players that are main subject of a sentence and passive subjects of a sentence "
   ]
  },
  {
   "cell_type": "code",
   "execution_count": 337,
   "metadata": {},
   "outputs": [],
   "source": [
    "def identify_nsubj_passsubj(string):\n",
    "    \n",
    "    # Create spacy object from string\n",
    "    doc = nlp(string)\n",
    "    \n",
    "    # Create empty nsubj list\n",
    "    nsubj_passsubj = []\n",
    "    \n",
    "    # Iterate through doc object\n",
    "    for i, tok in enumerate(doc):\n",
    "        # ADDING NSUBJ\n",
    "        # Check for NSubj only if tok is a proper noun and it's length is greater than 2\n",
    "        if str(tok.dep_) == \"nsubj\" and str(tok.pos_) == \"PROPN\" and len(tok.text) > 2:\n",
    "            # Apped subject if it matches with a player\n",
    "            nsubj_passsubj.append([player for player in players if tok.text in player])\n",
    "        # ADDING SUBJPASS\n",
    "        elif str(tok.dep_) == \"subjpass\" and str(tok.pos_) == \"PROPN\" and len(tok.text) > 2:\n",
    "            nsubj_passsubj.append([player for player in players if tok.text in player])\n",
    "            \n",
    "    # return a flattened list        \n",
    "    return str([y for x in nsubj_passsubj for y in x])[1:-1].replace(\"'\", \"\")"
   ]
  },
  {
   "cell_type": "code",
   "execution_count": 338,
   "metadata": {},
   "outputs": [],
   "source": [
    "# Apply function to phrases_df\n",
    "phrases_df['nsubj_passsubj'] = phrases_df['Sentence'].apply(identify_nsubj_passsubj)"
   ]
  },
  {
   "cell_type": "markdown",
   "metadata": {},
   "source": [
    "> ### Approach 3 - Identify Nsubj and Pobj\n",
    "- Function will extract players that are main subject of a sentence and objects of a preposition "
   ]
  },
  {
   "cell_type": "code",
   "execution_count": 339,
   "metadata": {},
   "outputs": [],
   "source": [
    "def identify_nsubj_pobj(string):\n",
    "    \n",
    "    # Create spacy object from string\n",
    "    doc = nlp(string)\n",
    "    \n",
    "    # Create empty nsubj list\n",
    "    nsubj_pobj = []\n",
    "    \n",
    "    # Iterate through doc object\n",
    "    for i, tok in enumerate(doc):\n",
    "        # ADDING NSUBJ\n",
    "        # Check for NSubj only if tok is a proper noun and it's length is greater than 2\n",
    "        if str(tok.dep_) == \"nsubj\" and str(tok.pos_) == \"PROPN\" and len(tok.text) > 2:\n",
    "            # Apped subject if it matches with a player\n",
    "            nsubj_pobj.append([player for player in players if tok.text in player])\n",
    "        # ADDING POBJ\n",
    "        elif str(tok.dep_) == \"pobj\" and str(tok.pos_) == \"PROPN\" and len(tok.text) > 2:\n",
    "            nsubj_pobj.append([player for player in players if tok.text in player])\n",
    "            \n",
    "    # return a flattened list        \n",
    "    return str([y for x in nsubj_pobj for y in x])[1:-1].replace(\"'\", \"\")"
   ]
  },
  {
   "cell_type": "code",
   "execution_count": 340,
   "metadata": {},
   "outputs": [],
   "source": [
    "# Apply function to phrases_df\n",
    "phrases_df['nsubj_pobj'] = phrases_df['Sentence'].apply(identify_nsubj_pobj)"
   ]
  },
  {
   "cell_type": "markdown",
   "metadata": {},
   "source": [
    "> ### Approach 4 - Identify Nsubj, Pobj and Dobj\n",
    "- Function will extract players that are main subject of a sentence, objects of a preposition and direct object of a sentence"
   ]
  },
  {
   "cell_type": "code",
   "execution_count": 341,
   "metadata": {},
   "outputs": [],
   "source": [
    "def identify_nsubj_pobj_dobj(string):\n",
    "    \n",
    "    # Create spacy object from string\n",
    "    doc = nlp(string)\n",
    "    \n",
    "    # Create empty nsubj list\n",
    "    nsubj_pobj_dobj = []\n",
    "    \n",
    "    # Iterate through doc object\n",
    "    for i, tok in enumerate(doc):\n",
    "        # ADDING NSUBJ\n",
    "        # Check for NSubj only if tok is a proper noun and it's length is greater than 2\n",
    "        if str(tok.dep_) == \"nsubj\" and str(tok.pos_) == \"PROPN\" and len(tok.text) > 2:\n",
    "            # Apped subject if it matches with a player\n",
    "            nsubj_pobj_dobj.append([player for player in players if tok.text in player])\n",
    "        # ADDING POBJ\n",
    "        elif str(tok.dep_) == \"pobj\" and str(tok.pos_) == \"PROPN\" and len(tok.text) > 2:\n",
    "            nsubj_pobj_dobj.append([player for player in players if tok.text in player])\n",
    "        # ADDING DOBJ\n",
    "        elif str(tok.dep_) == \"dobj\" and str(tok.pos_) == \"PROPN\" and len(tok.text) > 2:\n",
    "            nsubj_pobj_dobj.append([player for player in players if tok.text in player])\n",
    "            \n",
    "    # return a flattened list        \n",
    "    return str([y for x in nsubj_pobj_dobj for y in x])[1:-1].replace(\"'\", \"\")"
   ]
  },
  {
   "cell_type": "code",
   "execution_count": 342,
   "metadata": {},
   "outputs": [],
   "source": [
    "# Apply function to phrases_df\n",
    "phrases_df['nsubj_pobj_dobj'] = phrases_df['Sentence'].apply(identify_nsubj_pobj_dobj)"
   ]
  },
  {
   "cell_type": "markdown",
   "metadata": {},
   "source": [
    "> ### Approach 5 - Identify Nsubj, Dobj\n",
    "- Function will extract players that are main subject of a sentence and direct objects of a sentence"
   ]
  },
  {
   "cell_type": "code",
   "execution_count": 343,
   "metadata": {},
   "outputs": [],
   "source": [
    "def identify_nsubj_dobj(string):\n",
    "    \n",
    "    # Create spacy object from string\n",
    "    doc = nlp(string)\n",
    "    \n",
    "    # Create empty nsubj list\n",
    "    nsubj_dobj = []\n",
    "    \n",
    "    # Iterate through doc object\n",
    "    for i, tok in enumerate(doc):\n",
    "        # ADDING NSUBJ\n",
    "        # Check for NSubj only if tok is a proper noun and it's length is greater than 2\n",
    "        if str(tok.dep_) == \"nsubj\" and str(tok.pos_) == \"PROPN\" and len(tok.text) > 2:\n",
    "            # Apped subject if it matches with a player\n",
    "            nsubj_dobj.append([player for player in players if tok.text in player])\n",
    "        # ADDING DOBJ\n",
    "        elif str(tok.dep_) == \"dobj\" and str(tok.pos_) == \"PROPN\" and len(tok.text) > 2:\n",
    "            nsubj_dobj.append([player for player in players if tok.text in player])\n",
    "            \n",
    "    # return a flattened list        \n",
    "    return str([y for x in nsubj_dobj for y in x])[1:-1].replace(\"'\", \"\")"
   ]
  },
  {
   "cell_type": "code",
   "execution_count": 344,
   "metadata": {},
   "outputs": [],
   "source": [
    "# Apply function to phrases_df\n",
    "phrases_df['nsubj_dobj'] = phrases_df['Sentence'].apply(identify_nsubj_dobj)"
   ]
  },
  {
   "cell_type": "markdown",
   "metadata": {},
   "source": [
    "> ### Approach 6 - Identify Nsubj, Poss\n",
    "- Function will extract players that are main subject of a sentence and possessives"
   ]
  },
  {
   "cell_type": "code",
   "execution_count": 345,
   "metadata": {},
   "outputs": [],
   "source": [
    "def identify_nsubj_poss(string):\n",
    "    \n",
    "    # Create spacy object from string\n",
    "    doc = nlp(string)\n",
    "    \n",
    "    # Create empty nsubj list\n",
    "    nsubj_poss = []\n",
    "    \n",
    "    # Iterate through doc object\n",
    "    for i, tok in enumerate(doc):\n",
    "        # ADDING NSUBJ\n",
    "        # Check for NSubj only if tok is a proper noun and it's length is greater than 2\n",
    "        if str(tok.dep_) == \"nsubj\" and str(tok.pos_) == \"PROPN\" and len(tok.text) > 2:\n",
    "            # Apped subject if it matches with a player\n",
    "            nsubj_poss.append([player for player in players if tok.text in player])\n",
    "        # ADDING POSS\n",
    "        elif str(tok.dep_) == \"poss\" and str(tok.pos_) == \"PROPN\" and len(tok.text) > 2:\n",
    "            nsubj_poss.append([player for player in players if tok.text in player])\n",
    "            \n",
    "    # return a flattened list        \n",
    "    return str([y for x in nsubj_poss for y in x])[1:-1].replace(\"'\", \"\")"
   ]
  },
  {
   "cell_type": "code",
   "execution_count": 346,
   "metadata": {},
   "outputs": [],
   "source": [
    "# Apply function to phrases_df\n",
    "phrases_df['nsubj_poss'] = phrases_df['Sentence'].apply(identify_nsubj_poss)"
   ]
  },
  {
   "cell_type": "markdown",
   "metadata": {},
   "source": [
    "> ### Approach 7 - Identify Nsubj, Pobj, Dobj and Poss\n",
    "- Function will extract players that are main subject of a sentence, object of a preposition, direct object and possessives"
   ]
  },
  {
   "cell_type": "code",
   "execution_count": 347,
   "metadata": {},
   "outputs": [],
   "source": [
    "def identify_nsubj_pobj_dobj_poss(string):\n",
    "    \n",
    "    # Create spacy object from string\n",
    "    doc = nlp(string)\n",
    "    \n",
    "    # Create empty nsubj list\n",
    "    nsubj_pobj_dobj_poss = []\n",
    "    \n",
    "    # Iterate through doc object\n",
    "    for i, tok in enumerate(doc):\n",
    "        # ADDING NSUBJ\n",
    "        # Check for NSubj only if tok is a proper noun and it's length is greater than 2\n",
    "        if str(tok.dep_) == \"nsubj\" and str(tok.pos_) == \"PROPN\" and len(tok.text) > 2:\n",
    "            # Apped subject if it matches with a player\n",
    "            nsubj_pobj_dobj_poss.append([player for player in players if tok.text in player])\n",
    "        # ADDING POBJ\n",
    "        elif str(tok.dep_) == \"pobj\" and str(tok.pos_) == \"PROPN\" and len(tok.text) > 2:\n",
    "            nsubj_pobj_dobj_poss.append([player for player in players if tok.text in player])\n",
    "        # ADDING DOBJ\n",
    "        elif str(tok.dep_) == \"dobj\" and str(tok.pos_) == \"PROPN\" and len(tok.text) > 2:\n",
    "            nsubj_pobj_dobj_poss.append([player for player in players if tok.text in player])\n",
    "        # ADDING POSS\n",
    "        elif str(tok.dep_) == \"poss\" and str(tok.pos_) == \"PROPN\" and len(tok.text) > 2:\n",
    "            nsubj_pobj_dobj_poss.append([player for player in players if tok.text in player])\n",
    "            \n",
    "    # return a flattened list        \n",
    "    return str([y for x in nsubj_pobj_dobj_poss for y in x])[1:-1].replace(\"'\", \"\")"
   ]
  },
  {
   "cell_type": "code",
   "execution_count": 348,
   "metadata": {},
   "outputs": [],
   "source": [
    "# Apply function to phrases_df\n",
    "phrases_df['nsubj_pobj_dobj_poss'] = phrases_df['Sentence'].apply(identify_nsubj_pobj_dobj_poss)"
   ]
  },
  {
   "cell_type": "markdown",
   "metadata": {},
   "source": [
    "> ### Approach 8 - Identify Nsubj, Pobj and Poss\n",
    "- Function will extract players that are main subject of a sentence, object of a preposition and possessives"
   ]
  },
  {
   "cell_type": "code",
   "execution_count": 365,
   "metadata": {},
   "outputs": [],
   "source": [
    "def identify_nsubj_pobj_poss(string):\n",
    "    \n",
    "    # Create spacy object from string\n",
    "    doc = nlp(string)\n",
    "    \n",
    "    # Create empty nsubj_pobj_poss list\n",
    "    nsubj_pobj_poss = []\n",
    "    \n",
    "    # Iterate through doc object\n",
    "    for i, tok in enumerate(doc):\n",
    "        # ADDING NSUBJ\n",
    "        # Check for NSubj only if tok is a proper noun and it's length is greater than 2\n",
    "        if str(tok.dep_) == \"nsubj\" and str(tok.pos_) == \"PROPN\" and len(tok.text) > 2:\n",
    "            # Apped subject if it matches with a player\n",
    "            nsubj_pobj_poss.append([player for player in players if tok.text in player])\n",
    "        # ADDING POBJ\n",
    "        elif str(tok.dep_) == \"pobj\" and str(tok.pos_) == \"PROPN\" and len(tok.text) > 2:\n",
    "            nsubj_pobj_poss.append([player for player in players if tok.text in player])\n",
    "        # ADDING POSS\n",
    "        elif str(tok.dep_) == \"poss\" and str(tok.pos_) == \"PROPN\" and len(tok.text) > 2:\n",
    "            nsubj_pobj_poss.append([player for player in players if tok.text in player])\n",
    "            \n",
    "    # return a flattened list        \n",
    "    return str([y for x in nsubj_pobj_poss for y in x])[1:-1].replace(\"'\", \"\")"
   ]
  },
  {
   "cell_type": "code",
   "execution_count": 366,
   "metadata": {},
   "outputs": [],
   "source": [
    "# Apply function to phrases_df\n",
    "phrases_df['nsubj_pobj_poss'] = phrases_df['Sentence'].apply(identify_nsubj_pobj_poss)"
   ]
  },
  {
   "cell_type": "markdown",
   "metadata": {},
   "source": [
    "> ### Approach 9 - Identify Nsubj, Dobj, Poss\n",
    "- Function will extract players that are main subject of a sentence, direct object and possessives"
   ]
  },
  {
   "cell_type": "code",
   "execution_count": 367,
   "metadata": {},
   "outputs": [],
   "source": [
    "def identify_nsubj_dobj_poss(string):\n",
    "    \n",
    "    # Create spacy object from string\n",
    "    doc = nlp(string)\n",
    "    \n",
    "    # Create empty nsubj_pobj_poss list\n",
    "    nsubj_dobj_poss = []\n",
    "    \n",
    "    # Iterate through doc object\n",
    "    for i, tok in enumerate(doc):\n",
    "        # ADDING NSUBJ\n",
    "        # Check for NSubj only if tok is a proper noun and it's length is greater than 2\n",
    "        if str(tok.dep_) == \"nsubj\" and str(tok.pos_) == \"PROPN\" and len(tok.text) > 2:\n",
    "            # Apped subject if it matches with a player\n",
    "            nsubj_dobj_poss.append([player for player in players if tok.text in player])\n",
    "        # ADDING POBJ\n",
    "        elif str(tok.dep_) == \"dobj\" and str(tok.pos_) == \"PROPN\" and len(tok.text) > 2:\n",
    "            nsubj_dobj_poss.append([player for player in players if tok.text in player])\n",
    "        # ADDING POSS\n",
    "        elif str(tok.dep_) == \"poss\" and str(tok.pos_) == \"PROPN\" and len(tok.text) > 2:\n",
    "            nsubj_dobj_poss.append([player for player in players if tok.text in player])\n",
    "            \n",
    "    # return a flattened list        \n",
    "    return str([y for x in nsubj_dobj_poss for y in x])[1:-1].replace(\"'\", \"\")"
   ]
  },
  {
   "cell_type": "code",
   "execution_count": 368,
   "metadata": {},
   "outputs": [],
   "source": [
    "# Apply function to phrases_df\n",
    "phrases_df['nsubj_dobj_poss'] = phrases_df['Sentence'].apply(identify_nsubj_dobj_poss)"
   ]
  },
  {
   "cell_type": "markdown",
   "metadata": {},
   "source": [
    "> ### Approach 10 - Identify any mention of a player\n",
    "- Function will extract any player that is mentioned in the sentence"
   ]
  },
  {
   "cell_type": "code",
   "execution_count": 349,
   "metadata": {},
   "outputs": [],
   "source": [
    "def identify_mention(string):\n",
    "    \n",
    "    # Create spacy object from string\n",
    "    doc = nlp(string)\n",
    "    \n",
    "    # Create empty nsubj list\n",
    "    mention = []\n",
    "    \n",
    "    # Iterate through doc object\n",
    "    for i, tok in enumerate(doc):\n",
    "        # Check if tok is a proper noun and it's length is greater than 2\n",
    "        if str(tok.pos_) == \"PROPN\" and len(tok.text) > 2:\n",
    "            # Apped subject if it matches with a player\n",
    "            mention.append([player for player in players if tok.text in player])\n",
    "            \n",
    "    \n",
    "    \n",
    "    # return a flattened list\n",
    "    return str(list(dict.fromkeys([y.strip(\"''\") for x in mention for y in x])))[1:-1].replace(\"'\", \"\")"
   ]
  },
  {
   "cell_type": "code",
   "execution_count": 350,
   "metadata": {},
   "outputs": [],
   "source": [
    "# Apply function to phrases_df\n",
    "phrases_df['mention'] = phrases_df['Sentence'].apply(identify_mention)"
   ]
  },
  {
   "cell_type": "markdown",
   "metadata": {},
   "source": [
    "----"
   ]
  },
  {
   "cell_type": "markdown",
   "metadata": {},
   "source": [
    "### Compare accuracy of approaches"
   ]
  },
  {
   "cell_type": "markdown",
   "metadata": {},
   "source": [
    "> ##### Function to calculate accuracy score of approach will:\n",
    "- Compare common rows between annotated dataset and column in phrases df\n",
    "- Produce a confusion score for false positives, false negatives, true negatives, true positives"
   ]
  },
  {
   "cell_type": "markdown",
   "metadata": {},
   "source": [
    "Accuracy Score = `(correct matches / length of dataframe) * 100`"
   ]
  },
  {
   "cell_type": "code",
   "execution_count": 476,
   "metadata": {},
   "outputs": [],
   "source": [
    "def accuracy(df_column):\n",
    "    \n",
    "    # Accuracy counter \n",
    "    accuracy_counter = 0\n",
    "    \n",
    "    # Confusion score dictionary\n",
    "    confusion_dictionary = {\n",
    "        \"Approach\": df_column,\n",
    "        \"True Positive\": 0,\n",
    "        \"True Negative\": 0,\n",
    "        \"False Positive\": 0,\n",
    "        \"False Negative\": 0\n",
    "    }\n",
    "    \n",
    "    # ====================\n",
    "    # ACCURACY SCORE \n",
    "    # ====================\n",
    "    \n",
    "    # Iterate through phrases_df & annotated_df\n",
    "    for index, row in phrases_df.iterrows():\n",
    "        # Increment Accuracy Score\n",
    "        if row[df_column] == annotated_df.iloc[index][\"Target\"]:\n",
    "            accuracy_counter += 1\n",
    "        else: \n",
    "            continue\n",
    "    \n",
    "    \n",
    "    for index, row in phrases_df.iterrows():\n",
    "        # ====================\n",
    "        # CONFUSION DICTIONARY \n",
    "        # ====================\n",
    "        \n",
    "        # If targets are equal\n",
    "        if row[df_column] == annotated_df.iloc[index][\"Target\"]:\n",
    "            # Increment True Positive\n",
    "            if annotated_df.iloc[index][\"Target\"] != \"\":\n",
    "                confusion_dictionary[\"True Positive\"] += 1\n",
    "            # Increment True Negative\n",
    "            elif annotated_df.iloc[index][\"Target\"] == \"\":\n",
    "                confusion_dictionary[\"True Negative\"] += 1\n",
    "            # Print Error\n",
    "            else: \n",
    "                print(\"Error 1: Conditions don't catch all cases\")\n",
    "        elif row[df_column] != annotated_df.iloc[index][\"Target\"]:\n",
    "            # Increment False Positive\n",
    "            if annotated_df.iloc[index][\"Target\"] == \"\":\n",
    "                confusion_dictionary[\"False Positive\"] += 1\n",
    "            # Increment False Negative\n",
    "            elif annotated_df.iloc[index][\"Target\"] != \"\" and row[df_column] == \"\":\n",
    "                confusion_dictionary[\"False Negative\"] += 1\n",
    "            # If Neither are blank but they don't match ---> Split the two columns into lists and work out which is longer\n",
    "            else:\n",
    "                # If the annotated entry is longer then its a false negative because targets weren't recognised\n",
    "                if len(annotated_df.iloc[index][\"Target\"].split(',')) > len(row[df_column].split(',')):\n",
    "                    confusion_dictionary[\"False Negative\"] += 1\n",
    "                # If the phrases_df entry is longer then its a false positive because targets were recognised that weren't there\n",
    "                elif len(annotated_df.iloc[index][\"Target\"].split(',')) < len(row[df_column].split(',')):\n",
    "                    confusion_dictionary[\"False Positive\"] += 1\n",
    "                # If the they match in length its a false positive because the entries weren't the same\n",
    "                elif len(annotated_df.iloc[index][\"Target\"].split(',')) == len(row[df_column].split(',')):\n",
    "                    confusion_dictionary[\"False Positive\"] += 1\n",
    "                else: \n",
    "                    print(\"Error 2: Conditions don't catch all cases\")\n",
    "                \n",
    "        else: \n",
    "            print(\"Error 3: Conditions don't catch all cases\")\n",
    "            \n",
    "        \n",
    "        \n",
    "            \n",
    "            \n",
    "    \n",
    "    # Calculate Accuracy Score\n",
    "    accuracy_score = (accuracy_counter / len(phrases_df)) * 100\n",
    "    \n",
    "    \n",
    "    return  round(accuracy_score, 3), confusion_dictionary"
   ]
  },
  {
   "cell_type": "markdown",
   "metadata": {},
   "source": [
    "> ### Test Accuracy - Approach 1"
   ]
  },
  {
   "cell_type": "code",
   "execution_count": 477,
   "metadata": {},
   "outputs": [],
   "source": [
    "# Save Variables\n",
    "accuracy_1, confusion_1 = accuracy(\"nsubj\")"
   ]
  },
  {
   "cell_type": "code",
   "execution_count": 478,
   "metadata": {},
   "outputs": [
    {
     "name": "stdout",
     "output_type": "stream",
     "text": [
      "Accuracy Score: 84.97 {'Approach': 'nsubj', 'True Positive': 40, 'True Negative': 384, 'False Positive': 3, 'False Negative': 72}\n"
     ]
    }
   ],
   "source": [
    "# Print Variables\n",
    "print(\"Accuracy Score:\", accuracy_1, confusion_1)"
   ]
  },
  {
   "cell_type": "markdown",
   "metadata": {},
   "source": [
    "> ### Test Accuracy - Approach 2"
   ]
  },
  {
   "cell_type": "code",
   "execution_count": 479,
   "metadata": {},
   "outputs": [],
   "source": [
    "# Save Variables\n",
    "accuracy_2, confusion_2 = accuracy(\"nsubj_passsubj\")"
   ]
  },
  {
   "cell_type": "code",
   "execution_count": 480,
   "metadata": {},
   "outputs": [
    {
     "name": "stdout",
     "output_type": "stream",
     "text": [
      "Accuracy Score: 84.97 {'Approach': 'nsubj_passsubj', 'True Positive': 40, 'True Negative': 384, 'False Positive': 3, 'False Negative': 72}\n"
     ]
    }
   ],
   "source": [
    "# Print Variables\n",
    "print(\"Accuracy Score:\", accuracy_2, confusion_2)"
   ]
  },
  {
   "cell_type": "markdown",
   "metadata": {},
   "source": [
    "> ### Test Accuracy - Approach 3"
   ]
  },
  {
   "cell_type": "code",
   "execution_count": 481,
   "metadata": {},
   "outputs": [],
   "source": [
    "# Save Variables\n",
    "accuracy_3, confusion_3 = accuracy(\"nsubj_pobj\")"
   ]
  },
  {
   "cell_type": "code",
   "execution_count": 482,
   "metadata": {},
   "outputs": [
    {
     "name": "stdout",
     "output_type": "stream",
     "text": [
      "Accuracy Score: 88.978 {'Approach': 'nsubj_pobj', 'True Positive': 64, 'True Negative': 380, 'False Positive': 10, 'False Negative': 45}\n"
     ]
    }
   ],
   "source": [
    "# Print Variables\n",
    "print(\"Accuracy Score:\", accuracy_3, confusion_3)"
   ]
  },
  {
   "cell_type": "markdown",
   "metadata": {},
   "source": [
    "> ### Test Accuracy - Approach 4"
   ]
  },
  {
   "cell_type": "code",
   "execution_count": 483,
   "metadata": {},
   "outputs": [],
   "source": [
    "# Save Variables\n",
    "accuracy_4, confusion_4 = accuracy(\"nsubj_pobj_dobj\")"
   ]
  },
  {
   "cell_type": "code",
   "execution_count": 484,
   "metadata": {},
   "outputs": [
    {
     "name": "stdout",
     "output_type": "stream",
     "text": [
      "Accuracy Score: 88.577 {'Approach': 'nsubj_pobj_dobj', 'True Positive': 64, 'True Negative': 378, 'False Positive': 15, 'False Negative': 42}\n"
     ]
    }
   ],
   "source": [
    "# Print Variables\n",
    "print(\"Accuracy Score:\", accuracy_4, confusion_4)"
   ]
  },
  {
   "cell_type": "markdown",
   "metadata": {},
   "source": [
    "> ### Test Accuracy - Approach 5"
   ]
  },
  {
   "cell_type": "code",
   "execution_count": 485,
   "metadata": {},
   "outputs": [],
   "source": [
    "# Save Variables\n",
    "accuracy_5, confusion_5 = accuracy(\"nsubj_dobj\")"
   ]
  },
  {
   "cell_type": "code",
   "execution_count": 486,
   "metadata": {},
   "outputs": [
    {
     "name": "stdout",
     "output_type": "stream",
     "text": [
      "Accuracy Score: 84.569 {'Approach': 'nsubj_dobj', 'True Positive': 40, 'True Negative': 382, 'False Positive': 9, 'False Negative': 68}\n"
     ]
    }
   ],
   "source": [
    "# Print Variables\n",
    "print(\"Accuracy Score:\", accuracy_5, confusion_5)"
   ]
  },
  {
   "cell_type": "markdown",
   "metadata": {},
   "source": [
    "> ### Test Accuracy - Approach 6"
   ]
  },
  {
   "cell_type": "code",
   "execution_count": 487,
   "metadata": {},
   "outputs": [],
   "source": [
    "# Save Variables\n",
    "accuracy_6, confusion_6 = accuracy(\"nsubj_poss\")"
   ]
  },
  {
   "cell_type": "code",
   "execution_count": 488,
   "metadata": {},
   "outputs": [
    {
     "name": "stdout",
     "output_type": "stream",
     "text": [
      "Accuracy Score: 84.569 {'Approach': 'nsubj_poss', 'True Positive': 43, 'True Negative': 379, 'False Positive': 16, 'False Negative': 61}\n"
     ]
    }
   ],
   "source": [
    "# Print Variables\n",
    "print(\"Accuracy Score:\", accuracy_6, confusion_6)"
   ]
  },
  {
   "cell_type": "markdown",
   "metadata": {},
   "source": [
    "> ### Test Accuracy - Approach 7"
   ]
  },
  {
   "cell_type": "code",
   "execution_count": 489,
   "metadata": {},
   "outputs": [],
   "source": [
    "# Save Variables\n",
    "accuracy_7, confusion_7 = accuracy(\"nsubj_pobj_dobj_poss\")"
   ]
  },
  {
   "cell_type": "code",
   "execution_count": 490,
   "metadata": {},
   "outputs": [
    {
     "name": "stdout",
     "output_type": "stream",
     "text": [
      "Accuracy Score: 88.577 {'Approach': 'nsubj_pobj_dobj_poss', 'True Positive': 68, 'True Negative': 374, 'False Positive': 26, 'False Negative': 31}\n"
     ]
    }
   ],
   "source": [
    "# Print Variables\n",
    "print(\"Accuracy Score:\", accuracy_7, confusion_7)"
   ]
  },
  {
   "cell_type": "markdown",
   "metadata": {},
   "source": [
    "> ### Test Accuracy - Approach 8"
   ]
  },
  {
   "cell_type": "code",
   "execution_count": 491,
   "metadata": {},
   "outputs": [],
   "source": [
    "# Save Variables\n",
    "accuracy_8, confusion_8 = accuracy(\"nsubj_pobj_poss\")"
   ]
  },
  {
   "cell_type": "code",
   "execution_count": 492,
   "metadata": {},
   "outputs": [
    {
     "name": "stdout",
     "output_type": "stream",
     "text": [
      "Accuracy Score: 88.778 {'Approach': 'nsubj_pobj_poss', 'True Positive': 67, 'True Negative': 376, 'False Positive': 22, 'False Negative': 34}\n"
     ]
    }
   ],
   "source": [
    "# Print Variables\n",
    "print(\"Accuracy Score:\", accuracy_8, confusion_8)"
   ]
  },
  {
   "cell_type": "markdown",
   "metadata": {},
   "source": [
    "> ### Test Accuracy - Approach 9"
   ]
  },
  {
   "cell_type": "code",
   "execution_count": 493,
   "metadata": {},
   "outputs": [],
   "source": [
    "# Save Variables\n",
    "accuracy_9, confusion_9 = accuracy(\"nsubj_dobj_poss\")"
   ]
  },
  {
   "cell_type": "code",
   "execution_count": 494,
   "metadata": {},
   "outputs": [
    {
     "name": "stdout",
     "output_type": "stream",
     "text": [
      "Accuracy Score: 84.369 {'Approach': 'nsubj_dobj_poss', 'True Positive': 44, 'True Negative': 377, 'False Positive': 21, 'False Negative': 57}\n"
     ]
    }
   ],
   "source": [
    "# Print Variables\n",
    "print(\"Accuracy Score:\", accuracy_9, confusion_9)"
   ]
  },
  {
   "cell_type": "markdown",
   "metadata": {},
   "source": [
    "> ### Test Accuracy - Approach 10"
   ]
  },
  {
   "cell_type": "code",
   "execution_count": 495,
   "metadata": {},
   "outputs": [],
   "source": [
    "# Save Variables\n",
    "accuracy_10, confusion_10 = accuracy(\"mention\")"
   ]
  },
  {
   "cell_type": "code",
   "execution_count": 496,
   "metadata": {},
   "outputs": [
    {
     "name": "stdout",
     "output_type": "stream",
     "text": [
      "Accuracy Score: 79.96 {'Approach': 'mention', 'True Positive': 61, 'True Negative': 338, 'False Positive': 87, 'False Negative': 13}\n"
     ]
    }
   ],
   "source": [
    "# Print Variables\n",
    "print(\"Accuracy Score:\", accuracy_10, confusion_10)"
   ]
  },
  {
   "cell_type": "markdown",
   "metadata": {},
   "source": [
    "------"
   ]
  },
  {
   "cell_type": "markdown",
   "metadata": {},
   "source": [
    "## Visualising the results"
   ]
  },
  {
   "cell_type": "markdown",
   "metadata": {},
   "source": [
    "#### Make a DataFrame from the results"
   ]
  },
  {
   "cell_type": "code",
   "execution_count": 497,
   "metadata": {},
   "outputs": [],
   "source": [
    "results_df = pd.DataFrame([confusion_1, confusion_2, confusion_3, confusion_4, confusion_5, confusion_6, confusion_7, confusion_8, confusion_9, confusion_10])"
   ]
  },
  {
   "cell_type": "code",
   "execution_count": 498,
   "metadata": {},
   "outputs": [],
   "source": [
    "results_df[\"Accuracy\"] = [accuracy_1, accuracy_2, accuracy_3, accuracy_4, accuracy_5, accuracy_6, accuracy_7, accuracy_8, accuracy_9, accuracy_10]"
   ]
  },
  {
   "cell_type": "code",
   "execution_count": 499,
   "metadata": {},
   "outputs": [
    {
     "data": {
      "text/html": [
       "<div>\n",
       "<style scoped>\n",
       "    .dataframe tbody tr th:only-of-type {\n",
       "        vertical-align: middle;\n",
       "    }\n",
       "\n",
       "    .dataframe tbody tr th {\n",
       "        vertical-align: top;\n",
       "    }\n",
       "\n",
       "    .dataframe thead th {\n",
       "        text-align: right;\n",
       "    }\n",
       "</style>\n",
       "<table border=\"1\" class=\"dataframe\">\n",
       "  <thead>\n",
       "    <tr style=\"text-align: right;\">\n",
       "      <th></th>\n",
       "      <th>Approach</th>\n",
       "      <th>False Negative</th>\n",
       "      <th>False Positive</th>\n",
       "      <th>True Negative</th>\n",
       "      <th>True Positive</th>\n",
       "      <th>Accuracy</th>\n",
       "    </tr>\n",
       "  </thead>\n",
       "  <tbody>\n",
       "    <tr>\n",
       "      <th>0</th>\n",
       "      <td>nsubj</td>\n",
       "      <td>72</td>\n",
       "      <td>3</td>\n",
       "      <td>384</td>\n",
       "      <td>40</td>\n",
       "      <td>84.970</td>\n",
       "    </tr>\n",
       "    <tr>\n",
       "      <th>1</th>\n",
       "      <td>nsubj_passsubj</td>\n",
       "      <td>72</td>\n",
       "      <td>3</td>\n",
       "      <td>384</td>\n",
       "      <td>40</td>\n",
       "      <td>84.970</td>\n",
       "    </tr>\n",
       "    <tr>\n",
       "      <th>2</th>\n",
       "      <td>nsubj_pobj</td>\n",
       "      <td>45</td>\n",
       "      <td>10</td>\n",
       "      <td>380</td>\n",
       "      <td>64</td>\n",
       "      <td>88.978</td>\n",
       "    </tr>\n",
       "    <tr>\n",
       "      <th>3</th>\n",
       "      <td>nsubj_pobj_dobj</td>\n",
       "      <td>42</td>\n",
       "      <td>15</td>\n",
       "      <td>378</td>\n",
       "      <td>64</td>\n",
       "      <td>88.577</td>\n",
       "    </tr>\n",
       "    <tr>\n",
       "      <th>4</th>\n",
       "      <td>nsubj_dobj</td>\n",
       "      <td>68</td>\n",
       "      <td>9</td>\n",
       "      <td>382</td>\n",
       "      <td>40</td>\n",
       "      <td>84.569</td>\n",
       "    </tr>\n",
       "    <tr>\n",
       "      <th>5</th>\n",
       "      <td>nsubj_poss</td>\n",
       "      <td>61</td>\n",
       "      <td>16</td>\n",
       "      <td>379</td>\n",
       "      <td>43</td>\n",
       "      <td>84.569</td>\n",
       "    </tr>\n",
       "    <tr>\n",
       "      <th>6</th>\n",
       "      <td>nsubj_pobj_dobj_poss</td>\n",
       "      <td>31</td>\n",
       "      <td>26</td>\n",
       "      <td>374</td>\n",
       "      <td>68</td>\n",
       "      <td>88.577</td>\n",
       "    </tr>\n",
       "    <tr>\n",
       "      <th>7</th>\n",
       "      <td>nsubj_pobj_poss</td>\n",
       "      <td>34</td>\n",
       "      <td>22</td>\n",
       "      <td>376</td>\n",
       "      <td>67</td>\n",
       "      <td>88.778</td>\n",
       "    </tr>\n",
       "    <tr>\n",
       "      <th>8</th>\n",
       "      <td>nsubj_dobj_poss</td>\n",
       "      <td>57</td>\n",
       "      <td>21</td>\n",
       "      <td>377</td>\n",
       "      <td>44</td>\n",
       "      <td>84.369</td>\n",
       "    </tr>\n",
       "    <tr>\n",
       "      <th>9</th>\n",
       "      <td>mention</td>\n",
       "      <td>13</td>\n",
       "      <td>87</td>\n",
       "      <td>338</td>\n",
       "      <td>61</td>\n",
       "      <td>79.960</td>\n",
       "    </tr>\n",
       "  </tbody>\n",
       "</table>\n",
       "</div>"
      ],
      "text/plain": [
       "               Approach  False Negative  False Positive  True Negative  \\\n",
       "0  nsubj                 72              3               384             \n",
       "1  nsubj_passsubj        72              3               384             \n",
       "2  nsubj_pobj            45              10              380             \n",
       "3  nsubj_pobj_dobj       42              15              378             \n",
       "4  nsubj_dobj            68              9               382             \n",
       "5  nsubj_poss            61              16              379             \n",
       "6  nsubj_pobj_dobj_poss  31              26              374             \n",
       "7  nsubj_pobj_poss       34              22              376             \n",
       "8  nsubj_dobj_poss       57              21              377             \n",
       "9  mention               13              87              338             \n",
       "\n",
       "   True Positive  Accuracy  \n",
       "0  40             84.970    \n",
       "1  40             84.970    \n",
       "2  64             88.978    \n",
       "3  64             88.577    \n",
       "4  40             84.569    \n",
       "5  43             84.569    \n",
       "6  68             88.577    \n",
       "7  67             88.778    \n",
       "8  44             84.369    \n",
       "9  61             79.960    "
      ]
     },
     "execution_count": 499,
     "metadata": {},
     "output_type": "execute_result"
    }
   ],
   "source": [
    "results_df"
   ]
  },
  {
   "cell_type": "markdown",
   "metadata": {},
   "source": [
    "### Visualise the Accuracy Scores"
   ]
  },
  {
   "cell_type": "code",
   "execution_count": 541,
   "metadata": {},
   "outputs": [],
   "source": [
    "import seaborn as sns"
   ]
  },
  {
   "cell_type": "code",
   "execution_count": 571,
   "metadata": {},
   "outputs": [
    {
     "data": {
      "image/png": "[encoded data removed]",
      "text/plain": [
       "<Figure size 1490.4x739.44 with 1 Axes>"
      ]
     },
     "metadata": {},
     "output_type": "display_data"
    }
   ],
   "source": [
    "# Set Chart Options\n",
    "sns.set(rc={'figure.figsize':(20.7,10.27), })\n",
    "sns.set(style=\"darkgrid\")\n",
    "accuracy_chart = sns.barplot(x=\"Approach\", y=\"Accuracy\", data=results_df, color=\"#7CB7A3\")\n",
    "plt.ylim(70, 100)\n",
    "accuracy_chart.axes.set_title(\"Accuracy scores of target identification across 10 different approaches\",fontsize=30)\n",
    "accuracy_chart.set_xlabel(\"Approach\",fontsize=20)\n",
    "accuracy_chart.set_ylabel(\"Accuracy Score\",fontsize=20)\n",
    "accuracy_chart.tick_params(labelsize=12)"
   ]
  },
  {
   "cell_type": "markdown",
   "metadata": {},
   "source": [
    "### Visualise N False Positives"
   ]
  },
  {
   "cell_type": "code",
   "execution_count": 574,
   "metadata": {},
   "outputs": [
    {
     "data": {
      "image/png": "[encoded data removed]",
      "text/plain": [
       "<Figure size 1490.4x739.44 with 1 Axes>"
      ]
     },
     "metadata": {},
     "output_type": "display_data"
    }
   ],
   "source": [
    "false_positives_chart = sns.barplot(x=\"Approach\", y=\"False Positive\", data=results_df, color=\"#B76E79\")\n",
    "plt.ylim(0, 100)\n",
    "false_positives_chart.axes.set_title(\"Number of false positives within target identification across 10 different approaches\",fontsize=30)\n",
    "false_positives_chart.set_xlabel(\"Approach\",fontsize=20)\n",
    "false_positives_chart.set_ylabel(\"Number of false positives\",fontsize=20)\n",
    "false_positives_chart.tick_params(labelsize=12)"
   ]
  },
  {
   "cell_type": "markdown",
   "metadata": {},
   "source": [
    "### Visualise Accuracy vs False Positives"
   ]
  },
  {
   "cell_type": "code",
   "execution_count": 1,
   "metadata": {},
   "outputs": [
    {
     "ename": "NameError",
     "evalue": "name 'plt' is not defined",
     "output_type": "error",
     "traceback": [
      "\u001b[0;31m---------------------------------------------------------------------------\u001b[0m",
      "\u001b[0;31mNameError\u001b[0m                                 Traceback (most recent call last)",
      "\u001b[0;32m<ipython-input-1-bb95f4c95bfd>\u001b[0m in \u001b[0;36m<module>\u001b[0;34m\u001b[0m\n\u001b[0;32m----> 1\u001b[0;31m \u001b[0mplt\u001b[0m\u001b[0;34m.\u001b[0m\u001b[0mfigure\u001b[0m\u001b[0;34m(\u001b[0m\u001b[0mfigsize\u001b[0m\u001b[0;34m=\u001b[0m\u001b[0;34m(\u001b[0m\u001b[0;36m136\u001b[0m\u001b[0;34m,\u001b[0m \u001b[0;36m206\u001b[0m\u001b[0;34m)\u001b[0m\u001b[0;34m)\u001b[0m\u001b[0;34m\u001b[0m\u001b[0;34m\u001b[0m\u001b[0m\n\u001b[0m\u001b[1;32m      2\u001b[0m \u001b[0msns\u001b[0m\u001b[0;34m.\u001b[0m\u001b[0mset\u001b[0m\u001b[0;34m(\u001b[0m\u001b[0mrc\u001b[0m\u001b[0;34m=\u001b[0m\u001b[0;34m{\u001b[0m\u001b[0;34m'figure.figsize'\u001b[0m\u001b[0;34m:\u001b[0m\u001b[0;34m(\u001b[0m\u001b[0;36m20.7\u001b[0m\u001b[0;34m,\u001b[0m\u001b[0;36m10.27\u001b[0m\u001b[0;34m)\u001b[0m\u001b[0;34m,\u001b[0m \u001b[0;34m}\u001b[0m\u001b[0;34m)\u001b[0m\u001b[0;34m\u001b[0m\u001b[0;34m\u001b[0m\u001b[0m\n\u001b[1;32m      3\u001b[0m \u001b[0maccuracy_vs_falsepositives\u001b[0m \u001b[0;34m=\u001b[0m \u001b[0msns\u001b[0m\u001b[0;34m.\u001b[0m\u001b[0mlmplot\u001b[0m\u001b[0;34m(\u001b[0m \u001b[0mx\u001b[0m\u001b[0;34m=\u001b[0m\u001b[0;34m\"Accuracy\"\u001b[0m\u001b[0;34m,\u001b[0m \u001b[0my\u001b[0m\u001b[0;34m=\u001b[0m\u001b[0;34m\"False Positive\"\u001b[0m\u001b[0;34m,\u001b[0m \u001b[0mdata\u001b[0m\u001b[0;34m=\u001b[0m\u001b[0mresults_df\u001b[0m\u001b[0;34m,\u001b[0m \u001b[0mfit_reg\u001b[0m\u001b[0;34m=\u001b[0m\u001b[0;32mFalse\u001b[0m\u001b[0;34m,\u001b[0m \u001b[0mhue\u001b[0m\u001b[0;34m=\u001b[0m\u001b[0;34m'Approach'\u001b[0m\u001b[0;34m,\u001b[0m \u001b[0mlegend\u001b[0m\u001b[0;34m=\u001b[0m\u001b[0;32mTrue\u001b[0m\u001b[0;34m)\u001b[0m\u001b[0;34m\u001b[0m\u001b[0;34m\u001b[0m\u001b[0m\n\u001b[1;32m      4\u001b[0m \u001b[0mfalse_positives_chart\u001b[0m\u001b[0;34m.\u001b[0m\u001b[0maxes\u001b[0m\u001b[0;34m.\u001b[0m\u001b[0mset_title\u001b[0m\u001b[0;34m(\u001b[0m\u001b[0;34m\"Number of false positives within target identification across 10 different approaches\"\u001b[0m\u001b[0;34m,\u001b[0m\u001b[0mfontsize\u001b[0m\u001b[0;34m=\u001b[0m\u001b[0;36m30\u001b[0m\u001b[0;34m)\u001b[0m\u001b[0;34m\u001b[0m\u001b[0;34m\u001b[0m\u001b[0m\n\u001b[1;32m      5\u001b[0m \u001b[0mfalse_positives_chart\u001b[0m\u001b[0;34m.\u001b[0m\u001b[0mset_xlabel\u001b[0m\u001b[0;34m(\u001b[0m\u001b[0;34m\"Approach\"\u001b[0m\u001b[0;34m,\u001b[0m\u001b[0mfontsize\u001b[0m\u001b[0;34m=\u001b[0m\u001b[0;36m20\u001b[0m\u001b[0;34m)\u001b[0m\u001b[0;34m\u001b[0m\u001b[0;34m\u001b[0m\u001b[0m\n",
      "\u001b[0;31mNameError\u001b[0m: name 'plt' is not defined"
     ]
    }
   ],
   "source": [
    "plt.figure(figsize=(136, 206))\n",
    "sns.set(rc={'figure.figsize':(20.7,10.27), })\n",
    "accuracy_vs_falsepositives = sns.lmplot( x=\"Accuracy\", y=\"False Positive\", data=results_df, fit_reg=False, hue='Approach', legend=True)\n",
    "false_positives_chart.axes.set_title(\"Number of false positives within target identification across 10 different approaches\",fontsize=30)\n",
    "false_positives_chart.set_xlabel(\"Approach\",fontsize=20)\n",
    "false_positives_chart.set_ylabel(\"Number of false positives\",fontsize=20)\n",
    "false_positives_chart.tick_params(labelsize=12)\n"
   ]
  },
  {
   "cell_type": "markdown",
   "metadata": {},
   "source": [
    "---- "
   ]
  },
  {
   "cell_type": "markdown",
   "metadata": {},
   "source": [
    "### Where to go from here?\n",
    "> ##### Avenues I haven't explored:\n",
    "    - Co-reference Resolution: Identifying who 'He' is referring to \n",
    "    - Conditional adding of possessives / objects: Only adding target from a possessive reference if the possessive is part of the sentence subject \n",
    "    - Using a classifier to predict the target player\n",
    "    - Adding targets based on their position in an nltk parse tree\n",
    "    - Expanding annotated dataset to produce more detailed experiment"
   ]
  },
  {
   "cell_type": "code",
   "execution_count": null,
   "metadata": {},
   "outputs": [],
   "source": []
  }
 ],
 "metadata": {
  "kernelspec": {
   "display_name": "Python 3",
   "language": "python",
   "name": "python3"
  },
  "language_info": {
   "codemirror_mode": {
    "name": "ipython",
    "version": 3
   },
   "file_extension": ".py",
   "mimetype": "text/x-python",
   "name": "python",
   "nbconvert_exporter": "python",
   "pygments_lexer": "ipython3",
   "version": "3.7.3"
  }
 },
 "nbformat": 4,
 "nbformat_minor": 2
}
